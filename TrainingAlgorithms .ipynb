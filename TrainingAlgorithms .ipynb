{
 "cells": [
  {
   "cell_type": "markdown",
   "metadata": {},
   "source": [
    "# TRAINING CLASSIFICATION ALGORITHMS ON THE DATASET\n",
    "\n",
    "IMPORTING NECESSARY LIBRARIES AND LOADING THE DATASET"
   ]
  },
  {
   "cell_type": "code",
   "execution_count": null,
   "metadata": {},
   "outputs": [],
   "source": [
    "import numpy as np # linear algebra\n",
    "import pandas as pd # data processing, CSV file I/O (e.g. pd.read_csv)\n",
    "import matplotlib.pyplot as plt\n",
    "import matplotlib.ticker as ticker\n",
    "from sklearn import datasets, linear_model\n",
    "from sklearn.decomposition import PCA\n",
    "from sklearn.preprocessing import MinMaxScaler\n",
    "from sklearn.manifold import TSNE\n",
    "import seaborn as sns\n",
    "from sklearn import tree\n",
    "from sklearn.metrics import accuracy_score\n",
    "%matplotlib inline\n",
    "from sklearn.tree import DecisionTreeClassifier, export_graphviz\n",
    "df = pd.read_csv(\"C:/Users/Chandu Lad/Desktop/spotify.csv\")\n",
    "df = df.drop(\"Unnamed: 0\", axis=\"columns\")"
   ]
  },
  {
   "cell_type": "markdown",
   "metadata": {},
   "source": [
    "PRINTING THE HEAD OF THE DATA"
   ]
  },
  {
   "cell_type": "code",
   "execution_count": 2,
   "metadata": {},
   "outputs": [
    {
     "data": {
      "text/html": [
       "<div>\n",
       "<style scoped>\n",
       "    .dataframe tbody tr th:only-of-type {\n",
       "        vertical-align: middle;\n",
       "    }\n",
       "\n",
       "    .dataframe tbody tr th {\n",
       "        vertical-align: top;\n",
       "    }\n",
       "\n",
       "    .dataframe thead th {\n",
       "        text-align: right;\n",
       "    }\n",
       "</style>\n",
       "<table border=\"1\" class=\"dataframe\">\n",
       "  <thead>\n",
       "    <tr style=\"text-align: right;\">\n",
       "      <th></th>\n",
       "      <th>acousticness</th>\n",
       "      <th>danceability</th>\n",
       "      <th>duration_ms</th>\n",
       "      <th>energy</th>\n",
       "      <th>instrumentalness</th>\n",
       "      <th>key</th>\n",
       "      <th>liveness</th>\n",
       "      <th>loudness</th>\n",
       "      <th>mode</th>\n",
       "      <th>speechiness</th>\n",
       "      <th>tempo</th>\n",
       "      <th>time_signature</th>\n",
       "      <th>valence</th>\n",
       "      <th>target</th>\n",
       "      <th>song_title</th>\n",
       "      <th>artist</th>\n",
       "    </tr>\n",
       "  </thead>\n",
       "  <tbody>\n",
       "    <tr>\n",
       "      <th>0</th>\n",
       "      <td>0.0102</td>\n",
       "      <td>0.833</td>\n",
       "      <td>204600</td>\n",
       "      <td>0.434</td>\n",
       "      <td>0.021900</td>\n",
       "      <td>2</td>\n",
       "      <td>0.1650</td>\n",
       "      <td>-8.795</td>\n",
       "      <td>1</td>\n",
       "      <td>0.4310</td>\n",
       "      <td>150.062</td>\n",
       "      <td>4</td>\n",
       "      <td>0.286</td>\n",
       "      <td>1</td>\n",
       "      <td>Mask Off</td>\n",
       "      <td>Future</td>\n",
       "    </tr>\n",
       "    <tr>\n",
       "      <th>1</th>\n",
       "      <td>0.1990</td>\n",
       "      <td>0.743</td>\n",
       "      <td>326933</td>\n",
       "      <td>0.359</td>\n",
       "      <td>0.006110</td>\n",
       "      <td>1</td>\n",
       "      <td>0.1370</td>\n",
       "      <td>-10.401</td>\n",
       "      <td>1</td>\n",
       "      <td>0.0794</td>\n",
       "      <td>160.083</td>\n",
       "      <td>4</td>\n",
       "      <td>0.588</td>\n",
       "      <td>1</td>\n",
       "      <td>Redbone</td>\n",
       "      <td>Childish Gambino</td>\n",
       "    </tr>\n",
       "    <tr>\n",
       "      <th>2</th>\n",
       "      <td>0.0344</td>\n",
       "      <td>0.838</td>\n",
       "      <td>185707</td>\n",
       "      <td>0.412</td>\n",
       "      <td>0.000234</td>\n",
       "      <td>2</td>\n",
       "      <td>0.1590</td>\n",
       "      <td>-7.148</td>\n",
       "      <td>1</td>\n",
       "      <td>0.2890</td>\n",
       "      <td>75.044</td>\n",
       "      <td>4</td>\n",
       "      <td>0.173</td>\n",
       "      <td>1</td>\n",
       "      <td>Xanny Family</td>\n",
       "      <td>Future</td>\n",
       "    </tr>\n",
       "    <tr>\n",
       "      <th>3</th>\n",
       "      <td>0.6040</td>\n",
       "      <td>0.494</td>\n",
       "      <td>199413</td>\n",
       "      <td>0.338</td>\n",
       "      <td>0.510000</td>\n",
       "      <td>5</td>\n",
       "      <td>0.0922</td>\n",
       "      <td>-15.236</td>\n",
       "      <td>1</td>\n",
       "      <td>0.0261</td>\n",
       "      <td>86.468</td>\n",
       "      <td>4</td>\n",
       "      <td>0.230</td>\n",
       "      <td>1</td>\n",
       "      <td>Master Of None</td>\n",
       "      <td>Beach House</td>\n",
       "    </tr>\n",
       "    <tr>\n",
       "      <th>4</th>\n",
       "      <td>0.1800</td>\n",
       "      <td>0.678</td>\n",
       "      <td>392893</td>\n",
       "      <td>0.561</td>\n",
       "      <td>0.512000</td>\n",
       "      <td>5</td>\n",
       "      <td>0.4390</td>\n",
       "      <td>-11.648</td>\n",
       "      <td>0</td>\n",
       "      <td>0.0694</td>\n",
       "      <td>174.004</td>\n",
       "      <td>4</td>\n",
       "      <td>0.904</td>\n",
       "      <td>1</td>\n",
       "      <td>Parallel Lines</td>\n",
       "      <td>Junior Boys</td>\n",
       "    </tr>\n",
       "  </tbody>\n",
       "</table>\n",
       "</div>"
      ],
      "text/plain": [
       "   acousticness  danceability  duration_ms  energy  instrumentalness  key  \\\n",
       "0        0.0102         0.833       204600   0.434          0.021900    2   \n",
       "1        0.1990         0.743       326933   0.359          0.006110    1   \n",
       "2        0.0344         0.838       185707   0.412          0.000234    2   \n",
       "3        0.6040         0.494       199413   0.338          0.510000    5   \n",
       "4        0.1800         0.678       392893   0.561          0.512000    5   \n",
       "\n",
       "   liveness  loudness  mode  speechiness    tempo  time_signature  valence  \\\n",
       "0    0.1650    -8.795     1       0.4310  150.062               4    0.286   \n",
       "1    0.1370   -10.401     1       0.0794  160.083               4    0.588   \n",
       "2    0.1590    -7.148     1       0.2890   75.044               4    0.173   \n",
       "3    0.0922   -15.236     1       0.0261   86.468               4    0.230   \n",
       "4    0.4390   -11.648     0       0.0694  174.004               4    0.904   \n",
       "\n",
       "   target      song_title            artist  \n",
       "0       1        Mask Off            Future  \n",
       "1       1         Redbone  Childish Gambino  \n",
       "2       1    Xanny Family            Future  \n",
       "3       1  Master Of None       Beach House  \n",
       "4       1  Parallel Lines       Junior Boys  "
      ]
     },
     "execution_count": 2,
     "metadata": {},
     "output_type": "execute_result"
    }
   ],
   "source": [
    "df.head()"
   ]
  },
  {
   "cell_type": "markdown",
   "metadata": {},
   "source": [
    "# SPLITTING THE DATASET INTO TRAIN AND TEST DATA\n",
    "\n",
    "I HAVE SPLIT THE DATA  IN THE RATIO 80:20 AS THE TESTING DATA IS ALWAYS SMALLER THAN THE TRAIN DATA. ALSO I HAVE DROPPED THE 'TARGET' FIELD FROM THE X-AXIS AND INCLUDED IT IN THE Y-AXIS AS IT IS THE DEPENDENT VARIABLE AND WE ARE TO GOING TO CLASSIFY AND PREDICT DATA DEPENDING ON THE TARGET VALUE."
   ]
  },
  {
   "cell_type": "code",
   "execution_count": 3,
   "metadata": {},
   "outputs": [],
   "source": [
    "from sklearn.model_selection import train_test_split\n",
    "\n",
    "# drop string features (like names)\n",
    "df.drop(['song_title','artist'], axis=1, inplace=True)\n",
    "\n",
    "# the songs, \"X\" axis\n",
    "X = df.drop(['target'], axis=1)\n",
    "\n",
    "# and their label/class, \"y\" axis\n",
    "y = df['target']\n",
    "\n",
    "# split the data into train sets (X_train, y_train) and test sets (X_test, y_test).\n",
    "# the testing sets are usually smaller than the training sets.\n",
    "# this time I'll use 20% for testing and 80% for training.\n",
    "X_train, X_test, y_train, y_test = train_test_split(X, y, test_size=0.2)"
   ]
  },
  {
   "cell_type": "markdown",
   "metadata": {},
   "source": [
    "# TRAINING CLASSIFICATION ALGORITHM\n",
    "\n",
    "The classification technique is a systematic approach to build classification models from an input dat set. For example, decision tree classifiers, rule-based classifiers, neural networks, support vector machines, and naive Bayes classifiers are different technique to solve a classification problem. Each technique adopts a learning algorithm to identify a model that best fits the relationshio between the attribute set and class label of the input data. Therefore, a key objective of the learning algorithm is to build prdictive model that accurately predict the class labels of previously unkonw records.\n",
    "\n",
    "AS THE DATA IS A CLASSIFICATION PROBLEM I HAVE TRAINED THE FOLLOWING ALGORITHMS :\n",
    "\n",
    "1. DECISION TREE CLASSIFIER: \n",
    "   The decision tree classifiers organized a series of test questions and conditions in a tree structure. In the decision   tree, the root and internal nodes contain attribute test conditions to separate recordes that have differenT   characteristics.All the terminal node i.e \"TARGET\" is assigned a class lable 1 or 0.\n",
    "   \n",
    "2. GAUSSIAN NAIVE BAYES:\n",
    "   ‘Naive Bayes‘, iS an extremely fast relative to other classification algorithms. It works on Bayes theorem of probability to predict the class of unknown data set. \n",
    "   \n",
    "3. RANDOM FOREST CLASSIFIER:\n",
    "    Random Forest creates a set of decision trees from randomly selected subset of training set. It then aggregates the votes from different decision trees to decide the final class of the test object.\n",
    "    \n",
    "ALL THESE CLASSIFICATION ALGORITHMS BELONG TO THE SKLEARN LIBRARY. SO HERE WE IMPORT THE ABOVE ALGORITHMS FROM SKLEARN, DEFINING THEM AND FITTING THEM INTO THE MODEL.    \n"
   ]
  },
  {
   "cell_type": "code",
   "execution_count": 4,
   "metadata": {},
   "outputs": [
    {
     "data": {
      "text/plain": [
       "RandomForestClassifier(bootstrap=True, class_weight=None, criterion='gini',\n",
       "            max_depth=None, max_features='auto', max_leaf_nodes=None,\n",
       "            min_impurity_decrease=0.0, min_impurity_split=None,\n",
       "            min_samples_leaf=1, min_samples_split=2,\n",
       "            min_weight_fraction_leaf=0.0, n_estimators=10, n_jobs=1,\n",
       "            oob_score=False, random_state=None, verbose=0,\n",
       "            warm_start=False)"
      ]
     },
     "execution_count": 4,
     "metadata": {},
     "output_type": "execute_result"
    }
   ],
   "source": [
    "#Training 3 Algorithms (Decision Tree, Gaussian NB, RandomForest )\n",
    "from sklearn.tree import DecisionTreeClassifier\n",
    "from sklearn.naive_bayes import GaussianNB\n",
    "from sklearn.ensemble import RandomForestClassifier\n",
    "\n",
    "dtc = DecisionTreeClassifier()\n",
    "nbc = GaussianNB()\n",
    "rfc = RandomForestClassifier()\n",
    "\n",
    "dtc.fit(X_train, y_train)\n",
    "nbc.fit(X_train, y_train)\n",
    "rfc.fit(X_train, y_train)"
   ]
  },
  {
   "cell_type": "markdown",
   "metadata": {},
   "source": [
    "NOW I AM FINDING THE ACCURACY SCORES FOR EACH ALGORITHM ND PRINTING THEM"
   ]
  },
  {
   "cell_type": "code",
   "execution_count": 5,
   "metadata": {},
   "outputs": [
    {
     "name": "stdout",
     "output_type": "stream",
     "text": [
      "Decision Tree score: 0.7153465346534653\n",
      "Naive Bayes score: 0.5841584158415841\n",
      "Random Forest score: 0.75\n"
     ]
    }
   ],
   "source": [
    "tree_score = dtc.score(X_test, y_test)\n",
    "naive_score = nbc.score(X_test, y_test)\n",
    "random_forest_score = rfc.score(X_test, y_test)\n",
    "\n",
    "print('Decision Tree score:', tree_score)\n",
    "print('Naive Bayes score:', naive_score)\n",
    "print('Random Forest score:', random_forest_score)"
   ]
  },
  {
   "cell_type": "markdown",
   "metadata": {},
   "source": [
    "FROM THE SCORES, RANDOM FOREST WORKS BEST FOR THIS CLASSIFICATION PROBLEM."
   ]
  },
  {
   "cell_type": "markdown",
   "metadata": {},
   "source": [
    "AGAIN I AM TRYING TO PREDICT WITH ALL THE THREE ALGORITHMS FOR THE TEST DATASET\n",
    "\n",
    "THE DATASET HAS SOME UNWANTED FIELDS WHICH NEEDS TO BE DROPPED."
   ]
  },
  {
   "cell_type": "code",
   "execution_count": 7,
   "metadata": {},
   "outputs": [
    {
     "name": "stdout",
     "output_type": "stream",
     "text": [
      "Decision Tree score: 0.5\n",
      "Naive Bayes score: 0.73\n",
      "Random Forest score: 0.59\n"
     ]
    }
   ],
   "source": [
    "#Training on test data\n",
    "test_playlist = pd.read_csv('C:/Users/Chandu Lad/Desktop/spotify2.csv')\n",
    "test_playlist.drop(['id', 'album', 'analysis_url', 'name', 'track_href', 'type', 'uri'], axis=1, inplace=True)\n",
    "\n",
    "test_playlist_X = test_playlist.drop(['class'], axis=1)\n",
    "test_playlist_y = test_playlist['class']\n",
    "\n",
    "test_tree_score = dtc.score(test_playlist_X, test_playlist_y)\n",
    "test_naive_score = nbc.score(test_playlist_X, test_playlist_y)\n",
    "test_random_forest_score = rfc.score(test_playlist_X, test_playlist_y)\n",
    "\n",
    "print('Decision Tree score:', test_tree_score)\n",
    "print('Naive Bayes score:', test_naive_score)\n",
    "print('Random Forest score:', test_random_forest_score)"
   ]
  },
  {
   "cell_type": "markdown",
   "metadata": {},
   "source": [
    "FOR THE TEST DATASET NAIVE BAYES WORKS WELL."
   ]
  },
  {
   "cell_type": "markdown",
   "metadata": {},
   "source": [
    "# PLOTTING THE ROC CURVE\n",
    "ROC curve, is a graphical plot that illustrates the diagnostic ability of a binary classifier system as its discrimination threshold is varied."
   ]
  },
  {
   "cell_type": "code",
   "execution_count": 8,
   "metadata": {},
   "outputs": [
    {
     "data": {
      "image/png": "[encoded data removed]",
      "text/plain": [
       "<matplotlib.figure.Figure at 0x2576e69ad30>"
      ]
     },
     "metadata": {},
     "output_type": "display_data"
    }
   ],
   "source": [
    "#Plotting ROC curve\n",
    "from sklearn.metrics import roc_curve, auc\n",
    "import matplotlib.pyplot as plt\n",
    "\n",
    "actual = test_playlist['class']\n",
    "decision_tree_prob = [p[1] for p in dtc.predict_proba(test_playlist_X)]\n",
    "naive_bayes_prob = [p[1] for p in nbc.predict_proba(test_playlist_X)]\n",
    "random_forest_prob = [p[1] for p in rfc.predict_proba(test_playlist_X)]\n",
    "\n",
    "dt_false_pos, dt_true_pos, _ = roc_curve(actual, decision_tree_prob)\n",
    "dt_auc = auc(dt_false_pos, dt_true_pos)\n",
    "\n",
    "nb_false_pos, nb_true_pos, _ = roc_curve(actual, naive_bayes_prob)\n",
    "nb_auc = auc(nb_false_pos, nb_true_pos)\n",
    "\n",
    "rf_false_pos, rf_true_pos, _ = roc_curve(actual, random_forest_prob)\n",
    "rf_auc = auc(rf_false_pos, rf_true_pos)\n",
    "\n",
    "# plot\n",
    "plt.plot(dt_false_pos, dt_true_pos, 'r', label='Decision Tree = %0.2f'% dt_auc)\n",
    "plt.plot(nb_false_pos, nb_true_pos, 'g', label='Naive Bayes = %0.2f'% nb_auc)\n",
    "plt.plot(rf_false_pos, rf_true_pos, 'b', label='Random Forest = %0.2f'% rf_auc)\n",
    "\n",
    "plt.legend(loc='lower right')\n",
    "plt.plot([0,1], [0,1], 'r--')\n",
    "plt.ylabel('True Positive Rate')\n",
    "plt.xlabel('False Positive Rate')\n",
    "plt.show()"
   ]
  },
  {
   "cell_type": "markdown",
   "metadata": {},
   "source": [
    "# Conclusion \n",
    "Random Forest is performing well for the training dataset with an accuracy of 75%\n",
    "\n",
    "Naive Bayes is performing well for this test dataset with an accuracy 73%"
   ]
  },
  {
   "cell_type": "markdown",
   "metadata": {},
   "source": [
    "<a rel=\"license\" href=\"http://creativecommons.org/licenses/by/3.0/us/\"><img alt=\"Creative Commons License\" style=\"border-width:0\" src=\"https://i.creativecommons.org/l/by/3.0/us/88x31.png\" /></a><br>The text in the document by RUTA LAD is licensed under <a rel=\"license\" href=\"http://creativecommons.org/licenses/by/3.0/us/\">Creative Commons Attribution 3.0 United States License</a>.<br><br>\n",
    "\n",
    "\n",
    "The code in the document by RUTA LAD is licensed under the MIT License https://opensource.org/licenses/MIT"
   ]
  },
  {
   "cell_type": "code",
   "execution_count": null,
   "metadata": {},
   "outputs": [],
   "source": []
  }
 ],
 "metadata": {
  "kernelspec": {
   "display_name": "Python 3",
   "language": "python",
   "name": "python3"
  },
  "language_info": {
   "codemirror_mode": {
    "name": "ipython",
    "version": 3
   },
   "file_extension": ".py",
   "mimetype": "text/x-python",
   "name": "python",
   "nbconvert_exporter": "python",
   "pygments_lexer": "ipython3",
   "version": "3.6.4"
  }
 },
 "nbformat": 4,
 "nbformat_minor": 2
}
